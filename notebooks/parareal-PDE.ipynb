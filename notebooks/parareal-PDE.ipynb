{
 "cells": [
  {
   "cell_type": "markdown",
   "metadata": {},
   "source": [
    "# Using parareal with Partial Differential Equations"
   ]
  },
  {
   "cell_type": "markdown",
   "metadata": {},
   "source": [
    "Here, we'll apply the parareal scheme to the numerical resolution of a boundary value problem. In particular, we want to solve the linear diffussion differential equation:\n",
    "\n",
    "$$\n",
    "\\frac{\\partial u}{\\partial t} + c\\frac{\\partial u}{\\partial x} = 0\n",
    "$$\n",
    "\n",
    "with given boundary and initial conditions:\n",
    "\n",
    "$$\n",
    "u(0, t) = 0 \\\\\n",
    "u(2, t) = 0 \\\\\n",
    "u(x, 0) = u_0(x)\n",
    "$$"
   ]
  },
  {
   "cell_type": "code",
   "execution_count": 1,
   "metadata": {},
   "outputs": [],
   "source": [
    "#We'll need these libraries\n",
    "import numpy as np\n",
    "import matplotlib.pyplot as plt"
   ]
  },
  {
   "cell_type": "markdown",
   "metadata": {},
   "source": [
    "## Discretization\n",
    "We'll introduce a grid of step $\\Delta t$ in time and $\\Delta x$ in space, and a the shorthand $u^n_i \\equiv u(i \\Delta x, n \\Delta t)$. "
   ]
  },
  {
   "cell_type": "code",
   "execution_count": 16,
   "metadata": {},
   "outputs": [],
   "source": [
    "## Physical parameters\n",
    "c = 1\n",
    "\n",
    "## Numerical parameters\n",
    "\n",
    "### Domain\n",
    "start = 0\n",
    "finish = 2\n",
    "size = finish - start\n",
    "\n",
    "### Grid\n",
    "nx = 200\n",
    "nt = 70\n",
    "xs = np.linspace(start, finish, nx)\n",
    "\n",
    "### Steps\n",
    "dt = 0.01\n",
    "dx = size/(nx - 1)\n",
    "\n",
    "ts = [i * dt for i in range(0, nt)]"
   ]
  },
  {
   "cell_type": "markdown",
   "metadata": {},
   "source": [
    "The boundary conditions are translated to the numerical grid as:\n",
    "\n",
    "$$\n",
    "u^n_0 = 0 \\\\\n",
    "u^n_{N-1} = 0 \\\\\n",
    "u^0_i = u_0(i \\Delta x)\n",
    "$$"
   ]
  },
  {
   "cell_type": "code",
   "execution_count": 17,
   "metadata": {},
   "outputs": [],
   "source": [
    "## Initial and boundary conditions\n",
    "\n",
    "### Set the initial conditions\n",
    "def ic(x):\n",
    "    \"\"\" Auxiliary function\n",
    "    to define the initial conditions\n",
    "    \"\"\"\n",
    "    y = .0 * (x < 0.9) + \\\n",
    "        10 * (x - 0.9) * (0.9 <= x) * (x < 1.0) + \\\n",
    "        10 * (1.1 - x) * (1.0 <= x) * (x <= 1.1) + \\\n",
    "        .0 * (1.1 < x)\n",
    "    \n",
    "    return y\n",
    "\n",
    "\n",
    "### Initialize matrix\n",
    "u = np.empty((nx, nt))\n",
    "\n",
    "### Store initial conditions\n",
    "u[:, 0] = ic(xs)\n",
    "\n",
    "### Store boundary conditions\n",
    "u[0, :] = 0\n",
    "u[-1, :] = 0"
   ]
  },
  {
   "cell_type": "markdown",
   "metadata": {},
   "source": [
    "Using a forward in time, backward in space scheme, the numerical schemes reads as:\n",
    "\n",
    "$$\n",
    "\\frac{u^{n+1}_i - u^n_i}{\\Delta t} + \\frac{c}{\\Delta x} (u^n_i - u^n_{i-1} ) = 0\n",
    "$$\n",
    "\n",
    "or, equivalently, as the explicit iterator:\n",
    "\n",
    "$$\n",
    "u^{n+1}_i = u^n_i - \\sigma (u^n_i - u^n_{i-1})\n",
    "$$\n",
    "\n",
    "Note that the iterator is controlled by the adimensional parameter $\\sigma$ defined as:\n",
    "\n",
    "$$\n",
    "\\sigma \\equiv c \\frac{\\Delta t}{\\Delta x}\n",
    "$$"
   ]
  },
  {
   "cell_type": "code",
   "execution_count": 18,
   "metadata": {},
   "outputs": [
    {
     "name": "stdout",
     "output_type": "stream",
     "text": [
      "99.95000000000002\n"
     ]
    }
   ],
   "source": [
    "sigma = c * dt/dx\n",
    "print(sigma)"
   ]
  },
  {
   "cell_type": "code",
   "execution_count": 12,
   "metadata": {},
   "outputs": [],
   "source": [
    "def scheme(u_this, u_back, sigma):\n",
    "    \"\"\" Given u_this (u here and now) and u_back (u back and now) returns u_future (u here and one step to the future)\"\"\"\n",
    "    \n",
    "    u_future = u_this - sigma * (u_this - u_back)\n",
    "    \n",
    "    return u_future"
   ]
  },
  {
   "cell_type": "markdown",
   "metadata": {},
   "source": [
    "So far, this is just one of the many classical schemes for solving a partial differential equation. In order to make a link with the parareal method, we need to write a function that updates in time all the spatial coordinates.\n",
    "\n",
    "This is relativelly straightforward to do using vector notation:\n",
    "\n",
    "$$\n",
    "  \\begin{align}\n",
    "     \\begin{bmatrix}\n",
    "        u^{n+1}_0 \\\\\n",
    "        u^{n+1}_1 \\\\\n",
    "        \\vdots \\\\\n",
    "        u^{n+1}_i \\\\\n",
    "        \\vdots \\\\\n",
    "        u^{n+1}_{N-2} \\\\\n",
    "        u^{n+1}_{N-1}\n",
    "      \\end{bmatrix}\n",
    "      =\n",
    "      \\begin{bmatrix}\n",
    "        u^n_0 \\\\\n",
    "        u^n_1 - \\sigma (u^n_1 - u^n_0) \\\\\n",
    "        \\vdots \\\\\n",
    "        u^n_i - \\sigma (u^n_i - u^n_{i-1}) \\\\\n",
    "        \\vdots \\\\\n",
    "        u^{n}_{N-2} - \\sigma (u^n_{N-2} - u^n_{N-3}) \\\\\n",
    "        u^{n}_{N-1}\n",
    "      \\end{bmatrix}\n",
    "  \\end{align}\n",
    "$$\n",
    "\n",
    "That is, we have a function that allows us to update our vector of states $\\vec u$ from time $n$ to time $n+1$:\n",
    "\n",
    "$$\n",
    "\\vec{u}^{n+1} = N(\\vec{u}^{n}; \\sigma)\n",
    "$$"
   ]
  },
  {
   "cell_type": "code",
   "execution_count": 13,
   "metadata": {},
   "outputs": [],
   "source": [
    "def N(u_now, sigma):\n",
    "    \n",
    "    # Create the output vector\n",
    "    nx = len(u_now)\n",
    "    u_future = np.empty(nx)\n",
    "    \n",
    "    # Populate it\n",
    "    u_future[0] = u_now[0] # Boundary condition\n",
    "    for i in range(1, nx-1):\n",
    "        u_future[i] = scheme(u_now[i], u_now[i-1], sigma)\n",
    "    u_future[-1] = u_now[-1] # Boundary condition\n",
    "    \n",
    "    return u_future"
   ]
  },
  {
   "cell_type": "markdown",
   "metadata": {},
   "source": [
    "We can apply $N$ iterativelly starting from the first column, which is provided by the initial conditions. This allows us to compute any future state at any point.\n",
    "\n",
    "$$\n",
    "\\vec{u}^{n+1} = N^{n+1}(\\vec{u}^0, \\sigma)\n",
    "$$"
   ]
  },
  {
   "cell_type": "code",
   "execution_count": 14,
   "metadata": {},
   "outputs": [],
   "source": [
    "for n in range(0, nt-1):\n",
    "    u[:, n+1] = N(u[:,n], sigma)"
   ]
  },
  {
   "cell_type": "markdown",
   "metadata": {},
   "source": [
    "The results look as expected: the shape of the initial condition just travels with speed $c$ and without distortion."
   ]
  },
  {
   "cell_type": "code",
   "execution_count": 15,
   "metadata": {},
   "outputs": [
    {
     "data": {
      "image/png": "[encoded data removed]",
      "text/plain": [
       "<Figure size 432x288 with 1 Axes>"
      ]
     },
     "metadata": {
      "needs_background": "light"
     },
     "output_type": "display_data"
    }
   ],
   "source": [
    "plt.plot(xs, u[:, 0::10])\n",
    "plt.xlabel('x');\n",
    "plt.ylabel('u');"
   ]
  },
  {
   "cell_type": "markdown",
   "metadata": {},
   "source": [
    "# Building the coarse and the fine integrator\n",
    "\n",
    "A straightforward way of writing a coarse and a fine integrator is to use two instances of $N$ with different $\\sigma$. This requires using two different grids (a coarse grid and a fine grid)."
   ]
  },
  {
   "cell_type": "code",
   "execution_count": null,
   "metadata": {},
   "outputs": [],
   "source": []
  }
 ],
 "metadata": {
  "kernelspec": {
   "display_name": "Python 3",
   "language": "python",
   "name": "python3"
  },
  "language_info": {
   "codemirror_mode": {
    "name": "ipython",
    "version": 3
   },
   "file_extension": ".py",
   "mimetype": "text/x-python",
   "name": "python",
   "nbconvert_exporter": "python",
   "pygments_lexer": "ipython3",
   "version": "3.7.4"
  }
 },
 "nbformat": 4,
 "nbformat_minor": 4
}
