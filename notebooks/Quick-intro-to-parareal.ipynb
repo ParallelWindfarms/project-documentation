{
 "cells": [
  {
   "cell_type": "markdown",
   "metadata": {},
   "source": [
    "# A first approach to parareal\n",
    "Strongly based in https://en.wikipedia.org/wiki/Parareal"
   ]
  },
  {
   "cell_type": "code",
   "execution_count": 1,
   "metadata": {},
   "outputs": [],
   "source": [
    "import numpy as np\n",
    "from scipy.integrate import odeint\n",
    "import matplotlib.pyplot as plt"
   ]
  },
  {
   "cell_type": "markdown",
   "metadata": {},
   "source": [
    "## Set the problem\n",
    "\n",
    "We just want to solve an initial value problem of the form:\n",
    "\n",
    "$$\n",
    "\\begin{cases}\n",
    "\\frac{dy}{dt} = f(y, t)\n",
    "\\\\\n",
    "y(0) = y_0\n",
    "\\end{cases}\n",
    "$$"
   ]
  },
  {
   "cell_type": "code",
   "execution_count": 2,
   "metadata": {},
   "outputs": [],
   "source": [
    "## Dynamics\n",
    "def dydt(y, t):\n",
    "    return 1/(1.05 + np.sin(t))\n",
    "\n",
    "## Initial condition\n",
    "y0 = 1\n",
    "\n",
    "## Simulation times\n",
    "t0 = 0\n",
    "tend = 25\n",
    "ts_coarse = np.linspace(t0, tend, 6)\n",
    "ts = np.linspace(t0, tend, 61) # Used just for graphics"
   ]
  },
  {
   "cell_type": "markdown",
   "metadata": {},
   "source": [
    "## Calculate numerical solution\n",
    "For future reference. We will consider this **THE solution**"
   ]
  },
  {
   "cell_type": "code",
   "execution_count": 3,
   "metadata": {},
   "outputs": [],
   "source": [
    "sol = odeint(dydt, y0, ts)"
   ]
  },
  {
   "cell_type": "markdown",
   "metadata": {},
   "source": [
    "## Show me the playground\n",
    "\n",
    "- In grey, the exact solution\n",
    "- In red, the coarse time-steps"
   ]
  },
  {
   "cell_type": "code",
   "execution_count": 4,
   "metadata": {},
   "outputs": [
    {
     "data": {
      "image/png": "[encoded data removed]",
      "text/plain": [
       "<Figure size 432x288 with 1 Axes>"
      ]
     },
     "metadata": {
      "needs_background": "light"
     },
     "output_type": "display_data"
    }
   ],
   "source": [
    "def plotpartition(ts, ts_coarse):\n",
    "    for i in range(0, ts_coarse.size):\n",
    "        plt.axvline(ts_coarse[i], linewidth = 2, color = 'red')\n",
    "    \n",
    "    for i in range(0, ts.size):\n",
    "        plt.axvline(ts[i], alpha = 0.1, color = 'black') \n",
    "        \n",
    "    plt.xlabel('t')\n",
    "    plt.ylabel('y')\n",
    "\n",
    "    \n",
    "plotpartition(ts, ts_coarse)\n",
    "plt.plot(ts, sol, color = 'black', alpha = 0.3)\n",
    "plt.show()"
   ]
  },
  {
   "cell_type": "markdown",
   "metadata": {},
   "source": [
    "## Write the solvers"
   ]
  },
  {
   "cell_type": "code",
   "execution_count": 1,
   "metadata": {},
   "outputs": [],
   "source": [
    "# Solvers\n",
    "def G(y0, t0, t):\n",
    "    ''' Coarse integrator\n",
    "    \n",
    "    Directly from the 1700s, just a brutal Euler method\n",
    "    '''\n",
    "    return y0 + dydt(y0, t) * (t - t0)\n",
    "\n",
    "def heun(y0, t0, t):\n",
    "    ''' Heun's integration method\n",
    "    \n",
    "    Another old timer, also known as Euler's improved method\n",
    "    '''\n",
    "    ytemp = G(y0, t0, t)\n",
    "    return y0 + (t -t0)/2 * (dydt(y0, t0) + dydt(ytemp, t))\n",
    "\n",
    "def F(y0, t0, t, nSubSteps = 10):\n",
    "    ''' Fine integrator\n",
    "    \n",
    "    Just uses Heun's method over a grid nSubSteps times finer\n",
    "    '''\n",
    "    ts = np.linspace(t0, t, nSubSteps)\n",
    "    \n",
    "    ys = np.empty(nSubSteps)\n",
    "    ys[0] = y0\n",
    "    for i in range(1, nSubSteps):\n",
    "        ys[i] = heun(ys[i-1], ts[i-1], ts[i])\n",
    "        \n",
    "    return ys[-1]\n",
    "\n",
    "def updater(fun, y0, ts):\n",
    "    ''' Updater function\n",
    "    \n",
    "    Applies fun to each time step\n",
    "    '''\n",
    "    nSteps = ts.size\n",
    "    ys = np.empty(nSteps)\n",
    "    ys[0] = y0\n",
    "    \n",
    "    for i in range(1, nSteps):\n",
    "        ys[i] = fun(ys[i-1], ts[i-1], ts[i])\n",
    "        \n",
    "    return ys"
   ]
  },
  {
   "cell_type": "markdown",
   "metadata": {},
   "source": [
    "## Set up the parareal scheme"
   ]
  },
  {
   "cell_type": "code",
   "execution_count": 6,
   "metadata": {},
   "outputs": [],
   "source": [
    "K = 6 # Number of iterations\n",
    "Y = np.ones((ts_coarse.size, K))*y0"
   ]
  },
  {
   "cell_type": "markdown",
   "metadata": {},
   "source": [
    "## First iteration\n",
    "\n",
    "The first iteration is obtained by a single run of the coarse integrator:\n",
    "\n",
    "$$\n",
    "y_{j+1}^0 = G(y_j, t_j, t_{j+1})\n",
    "$$"
   ]
  },
  {
   "cell_type": "code",
   "execution_count": 7,
   "metadata": {},
   "outputs": [
    {
     "data": {
      "image/png": "[encoded data removed]",
      "text/plain": [
       "<Figure size 432x288 with 1 Axes>"
      ]
     },
     "metadata": {
      "needs_background": "light"
     },
     "output_type": "display_data"
    }
   ],
   "source": [
    "Y[:, 0] = updater(G, y0, ts_coarse)\n",
    "\n",
    "plotpartition(ts, ts_coarse)\n",
    "plt.plot(ts, sol, color = 'black', alpha = 0.3)\n",
    "plt.plot(ts_coarse, Y[:, 0], 'o')\n",
    "plt.show()"
   ]
  },
  {
   "cell_type": "markdown",
   "metadata": {},
   "source": [
    "## Main loop\n",
    "Here we populate $Y$ using the Parareal algorithm\n",
    "\n",
    "$$\n",
    "y_{j+1}^{k+1} = \\mathcal{G}(y^{k+1}_j, t_j, t_{j+1}) + \\mathcal{F}(y^k_j, t_j, t_{j+1}) - \\mathcal{G}(y^k_j, t_j, t_{j+1}), \\quad j=0, \\ldots, P-1, \\quad k=0, \\ldots, K-1\n",
    "$$"
   ]
  },
  {
   "cell_type": "code",
   "execution_count": 8,
   "metadata": {},
   "outputs": [],
   "source": [
    "for j in range(0, ts_coarse.size-1):\n",
    "    for k in range(0, K-1):\n",
    "        Y[j+1, k+1] = F(Y[j, k], ts_coarse[j], ts_coarse[j+1], nSubSteps = 10) \\\n",
    "                    + G(Y[j, k+1], ts_coarse[j], ts_coarse[j+1]) \\\n",
    "                    - G(Y[j, k], ts_coarse[j], ts_coarse[j+1])"
   ]
  },
  {
   "cell_type": "code",
   "execution_count": 9,
   "metadata": {},
   "outputs": [
    {
     "data": {
      "image/png": "[encoded data removed]",
      "text/plain": [
       "<Figure size 432x288 with 1 Axes>"
      ]
     },
     "metadata": {
      "needs_background": "light"
     },
     "output_type": "display_data"
    }
   ],
   "source": [
    "plotpartition(ts, ts_coarse)\n",
    "plt.plot(ts, sol, color = 'black', alpha = 0.3)\n",
    "for k in range(0, K):\n",
    "    plt.plot(ts_coarse, Y[:, k], 'o', alpha = 0.4, label = 'k = %s' % k)\n",
    "plt.legend()\n",
    "plt.show()"
   ]
  }
 ],
 "metadata": {
  "kernelspec": {
   "display_name": "Python 3",
   "language": "python",
   "name": "python3"
  },
  "language_info": {
   "codemirror_mode": {
    "name": "ipython",
    "version": 3
   },
   "file_extension": ".py",
   "mimetype": "text/x-python",
   "name": "python",
   "nbconvert_exporter": "python",
   "pygments_lexer": "ipython3",
   "version": "3.7.4"
  }
 },
 "nbformat": 4,
 "nbformat_minor": 4
}
